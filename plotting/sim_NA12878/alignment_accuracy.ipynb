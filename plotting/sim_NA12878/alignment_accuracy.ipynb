{
 "cells": [
  {
   "cell_type": "code",
   "execution_count": 38,
   "id": "b0dd4958-eb02-4018-b4d8-dc451d65b670",
   "metadata": {},
   "outputs": [],
   "source": [
    "import pysam\n",
    "import pandas as pd\n",
    "import re"
   ]
  },
  {
   "cell_type": "code",
   "execution_count": 60,
   "id": "4094c0dd-7727-4a27-bf75-77a7a72b8c53",
   "metadata": {},
   "outputs": [],
   "source": [
    "def read_gold(fn, d):\n",
    "    f_gold = pysam.AlignmentFile(fn, 'r')\n",
    "    for r in f_gold:\n",
    "        if r.is_read1:\n",
    "            d[r.query_name + '_1'] = [r.reference_name, r.reference_start]\n",
    "        elif r.is_read2:\n",
    "            d[r.query_name + '_2'] = [r.reference_name, r.reference_start]\n",
    "    f_gold.close()\n",
    "    return d\n",
    "    \n",
    "def read_query(fn, d):\n",
    "    f = pysam.AlignmentFile(fn, 'r')\n",
    "    for r in f:\n",
    "        declip_pos = r.reference_start\n",
    "        if r.cigarstring.count('S') > 0:\n",
    "            re_cigar = re.compile('[SMID+]')\n",
    "            if re.findall(re_cigar, r.cigarstring)[0] == 'S':\n",
    "                declip_pos = r.reference_start - int(re.split(re_cigar, r.cigarstring)[0])\n",
    "            \n",
    "        info = [r.flag, r.reference_name, r.reference_start, r.mapping_quality,\n",
    "                 r.get_tag(\"AS\") if r.has_tag(\"AS\") else None, r.get_tag(\"NM\") if r.has_tag(\"NM\") else None, r.cigarstring, declip_pos]\n",
    "        if r.is_read1:\n",
    "            d[r.query_name + '_1'].extend(info)\n",
    "        elif r.is_read2:\n",
    "            d[r.query_name + '_2'].extend(info)\n",
    "    f.close()\n",
    "    df = pd.DataFrame.from_dict(d, orient='index', columns=['gold_rname', 'gold_pos', 'flag', 'rname', 'pos', 'mapq', 'score', 'hdist', 'cigar', 'pos_noclip'])\n",
    "    return df"
   ]
  },
  {
   "cell_type": "code",
   "execution_count": 61,
   "id": "679ea545-6e59-4129-a9a2-c58e99f7077e",
   "metadata": {},
   "outputs": [],
   "source": [
    "d = read_gold('chr21-per.bam', {})\n",
    "df = read_query('bwa-chm13_to_grch38-final.bam', d)\n",
    "# df = pd.DataFrame.from_dict(d, orient='index', columns=['gold_rname', 'gold_pos', 'flag', 'rname', 'pos', 'mapq', 'score', 'hdist'])\n",
    "# df = pd.DataFrame.from_dict(d, orient='index', columns=['gold_rname', 'gold_pos', 'lev_flag', 'lev_rname', 'lev_pos', 'lev_mapq', 'grc_flag', 'grc_rname', 'grc_pos', 'grc_mapq'])\n",
    "df.to_csv('NA12878-bwa-lev.tsv', sep='\\t')\n"
   ]
  },
  {
   "cell_type": "code",
   "execution_count": 62,
   "id": "66ca4322-ed65-44eb-9aa1-087ed8d0147a",
   "metadata": {},
   "outputs": [],
   "source": [
    "d = read_gold('chr21-per.bam', {})\n",
    "df = read_query('bwa-chm13_to_grch38-final-ns.bam', d)\n",
    "\n",
    "# df = pd.DataFrame.from_dict(d, orient='index', columns=['gold_rname', 'gold_pos', 'flag', 'rname', 'pos', 'mapq', 'score', 'hdist'])\n",
    "# df = pd.DataFrame.from_dict(d, orient='index', columns=['gold_rname', 'gold_pos', 'lev_flag', 'lev_rname', 'lev_pos', 'lev_mapq', 'grc_flag', 'grc_rname', 'grc_pos', 'grc_mapq'])\n",
    "df.to_csv('NA12878-bwa-lev-ns.tsv', sep='\\t')\n"
   ]
  },
  {
   "cell_type": "code",
   "execution_count": 63,
   "id": "d058c203-e274-4601-83a1-9dcd13855a32",
   "metadata": {},
   "outputs": [],
   "source": [
    "# d = read_gold('chr21-per.bam', {})\n",
    "# df = read_query('bwa-chm13_to_grch38-final-lm.bam', d)\n",
    "\n",
    "# # df = pd.DataFrame.from_dict(d, orient='index', columns=['gold_rname', 'gold_pos', 'flag', 'rname', 'pos', 'mapq', 'score', 'hdist'])\n",
    "# # df = pd.DataFrame.from_dict(d, orient='index', columns=['gold_rname', 'gold_pos', 'lev_flag', 'lev_rname', 'lev_pos', 'lev_mapq', 'grc_flag', 'grc_rname', 'grc_pos', 'grc_mapq'])\n",
    "# df.to_csv('NA12878-bwa-lev-lm.tsv', sep='\\t')\n"
   ]
  },
  {
   "cell_type": "code",
   "execution_count": 64,
   "id": "816471df-2783-43ac-b90b-42a6fa957175",
   "metadata": {},
   "outputs": [],
   "source": [
    "d = read_gold('chr21-per.bam', {})\n",
    "df = read_query('bwa-grch38.bam', d)\n",
    "\n",
    "# df = pd.DataFrame.from_dict(d, orient='index', columns=['gold_rname', 'gold_pos', 'flag', 'rname', 'pos', 'mapq', 'score', 'hdist'])\n",
    "df.to_csv('NA12878-bwa-grc.tsv', sep='\\t')"
   ]
  },
  {
   "cell_type": "code",
   "execution_count": 32,
   "id": "e172b7e4-ab00-4468-876e-d7ec9d3e864e",
   "metadata": {},
   "outputs": [
    {
     "data": {
      "text/plain": [
       "'100M'"
      ]
     },
     "execution_count": 32,
     "metadata": {},
     "output_type": "execute_result"
    }
   ],
   "source": [
    "r.cigarstring"
   ]
  },
  {
   "cell_type": "code",
   "execution_count": 49,
   "id": "41627e00-c5a6-4203-9285-0f1c80a27265",
   "metadata": {},
   "outputs": [
    {
     "name": "stdout",
     "output_type": "stream",
     "text": [
      "['S', 'M', 'D', 'M']\n",
      "['5', '80', '1', '15', '']\n",
      "['M', 'D', 'M', 'S']\n",
      "['80', '1', '15', '5', '']\n"
     ]
    }
   ],
   "source": [
    "re_cigar = re.compile('[SMID+]')\n",
    "print(re.findall(re_cigar, '5S80M1D15M'))\n",
    "print(re.split(re_cigar, '5S80M1D15M'))\n",
    "\n",
    "print(re.findall(re_cigar, '80M1D15M5S'))\n",
    "print(re.split(re_cigar, '80M1D15M5S'))"
   ]
  },
  {
   "cell_type": "code",
   "execution_count": null,
   "id": "b2f448e3-ef9a-41bd-a2eb-382a49d4558a",
   "metadata": {},
   "outputs": [],
   "source": []
  }
 ],
 "metadata": {
  "kernelspec": {
   "display_name": "Python 3",
   "language": "python",
   "name": "python3"
  },
  "language_info": {
   "codemirror_mode": {
    "name": "ipython",
    "version": 3
   },
   "file_extension": ".py",
   "mimetype": "text/x-python",
   "name": "python",
   "nbconvert_exporter": "python",
   "pygments_lexer": "ipython3",
   "version": "3.7.1"
  }
 },
 "nbformat": 4,
 "nbformat_minor": 5
}
