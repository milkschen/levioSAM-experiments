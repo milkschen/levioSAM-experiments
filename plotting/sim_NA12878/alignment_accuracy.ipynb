{
 "cells": [
  {
   "cell_type": "code",
   "execution_count": 2,
   "id": "b0dd4958-eb02-4018-b4d8-dc451d65b670",
   "metadata": {},
   "outputs": [],
   "source": [
    "import pysam\n",
    "import pandas as pd\n",
    "import re"
   ]
  },
  {
   "cell_type": "code",
   "execution_count": 15,
   "id": "4094c0dd-7727-4a27-bf75-77a7a72b8c53",
   "metadata": {},
   "outputs": [],
   "source": [
    "def read_gold(fn, d):\n",
    "    f_gold = pysam.AlignmentFile(fn, 'r')\n",
    "    for r in f_gold:\n",
    "        if r.is_read1:\n",
    "            d[r.query_name + '_1'] = [r.reference_name, r.reference_start]\n",
    "        elif r.is_read2:\n",
    "            d[r.query_name + '_2'] = [r.reference_name, r.reference_start]\n",
    "    f_gold.close()\n",
    "    return d\n",
    "    \n",
    "def read_query(fn, d):\n",
    "    f = pysam.AlignmentFile(fn, 'r')\n",
    "    for r in f:\n",
    "        if r.is_supplementary or r.is_secondary:\n",
    "            continue\n",
    "        declip_pos = r.reference_start\n",
    "        if r.cigarstring.count('S') > 0:\n",
    "            re_cigar = re.compile('[SMID+]')\n",
    "            if re.findall(re_cigar, r.cigarstring)[0] == 'S':\n",
    "                declip_pos = r.reference_start - int(re.split(re_cigar, r.cigarstring)[0])\n",
    "            \n",
    "        info = [r.flag, r.reference_name, r.reference_start, r.mapping_quality,\n",
    "                 r.get_tag(\"AS\") if r.has_tag(\"AS\") else None, r.get_tag(\"NM\") if r.has_tag(\"NM\") else None, r.cigarstring, declip_pos]\n",
    "        if r.is_read1:\n",
    "            d[r.query_name + '_1'].extend(info)\n",
    "        elif r.is_read2:\n",
    "            d[r.query_name + '_2'].extend(info)\n",
    "    f.close()\n",
    "    df = pd.DataFrame.from_dict(d, orient='index', columns=['gold_rname', 'gold_pos', 'flag', 'rname', 'pos', 'mapq', 'score', 'hdist', 'cigar', 'pos_noclip'])\n",
    "    return df"
   ]
  },
  {
   "cell_type": "code",
   "execution_count": 61,
   "id": "679ea545-6e59-4129-a9a2-c58e99f7077e",
   "metadata": {},
   "outputs": [],
   "source": [
    "d = read_gold('chr21-per.bam', {})\n",
    "df = read_query('bwa-chm13_to_grch38-final.bam', d)\n",
    "# df = pd.DataFrame.from_dict(d, orient='index', columns=['gold_rname', 'gold_pos', 'flag', 'rname', 'pos', 'mapq', 'score', 'hdist'])\n",
    "# df = pd.DataFrame.from_dict(d, orient='index', columns=['gold_rname', 'gold_pos', 'lev_flag', 'lev_rname', 'lev_pos', 'lev_mapq', 'grc_flag', 'grc_rname', 'grc_pos', 'grc_mapq'])\n",
    "df.to_csv('NA12878-bwa-lev.tsv', sep='\\t')\n"
   ]
  },
  {
   "cell_type": "code",
   "execution_count": 62,
   "id": "66ca4322-ed65-44eb-9aa1-087ed8d0147a",
   "metadata": {},
   "outputs": [],
   "source": [
    "d = read_gold('chr21-per.bam', {})\n",
    "df = read_query('bwa-chm13_to_grch38-final-ns.bam', d)\n",
    "\n",
    "# df = pd.DataFrame.from_dict(d, orient='index', columns=['gold_rname', 'gold_pos', 'flag', 'rname', 'pos', 'mapq', 'score', 'hdist'])\n",
    "# df = pd.DataFrame.from_dict(d, orient='index', columns=['gold_rname', 'gold_pos', 'lev_flag', 'lev_rname', 'lev_pos', 'lev_mapq', 'grc_flag', 'grc_rname', 'grc_pos', 'grc_mapq'])\n",
    "df.to_csv('NA12878-bwa-lev-ns.tsv', sep='\\t')\n"
   ]
  },
  {
   "cell_type": "code",
   "execution_count": 63,
   "id": "d058c203-e274-4601-83a1-9dcd13855a32",
   "metadata": {},
   "outputs": [],
   "source": [
    "# d = read_gold('chr21-per.bam', {})\n",
    "# df = read_query('bwa-chm13_to_grch38-final-lm.bam', d)\n",
    "\n",
    "# # df = pd.DataFrame.from_dict(d, orient='index', columns=['gold_rname', 'gold_pos', 'flag', 'rname', 'pos', 'mapq', 'score', 'hdist'])\n",
    "# # df = pd.DataFrame.from_dict(d, orient='index', columns=['gold_rname', 'gold_pos', 'lev_flag', 'lev_rname', 'lev_pos', 'lev_mapq', 'grc_flag', 'grc_rname', 'grc_pos', 'grc_mapq'])\n",
    "# df.to_csv('NA12878-bwa-lev-lm.tsv', sep='\\t')\n"
   ]
  },
  {
   "cell_type": "code",
   "execution_count": 64,
   "id": "816471df-2783-43ac-b90b-42a6fa957175",
   "metadata": {},
   "outputs": [],
   "source": [
    "d = read_gold('chr21-per.bam', {})\n",
    "df = read_query('bwa-grch38.bam', d)\n",
    "\n",
    "# df = pd.DataFrame.from_dict(d, orient='index', columns=['gold_rname', 'gold_pos', 'flag', 'rname', 'pos', 'mapq', 'score', 'hdist'])\n",
    "df.to_csv('NA12878-bwa-grc.tsv', sep='\\t')"
   ]
  },
  {
   "cell_type": "code",
   "execution_count": 32,
   "id": "e172b7e4-ab00-4468-876e-d7ec9d3e864e",
   "metadata": {},
   "outputs": [
    {
     "data": {
      "text/plain": [
       "'100M'"
      ]
     },
     "execution_count": 32,
     "metadata": {},
     "output_type": "execute_result"
    }
   ],
   "source": [
    "r.cigarstring"
   ]
  },
  {
   "cell_type": "code",
   "execution_count": 49,
   "id": "41627e00-c5a6-4203-9285-0f1c80a27265",
   "metadata": {},
   "outputs": [
    {
     "name": "stdout",
     "output_type": "stream",
     "text": [
      "['S', 'M', 'D', 'M']\n",
      "['5', '80', '1', '15', '']\n",
      "['M', 'D', 'M', 'S']\n",
      "['80', '1', '15', '5', '']\n"
     ]
    }
   ],
   "source": [
    "re_cigar = re.compile('[SMID+]')\n",
    "print(re.findall(re_cigar, '5S80M1D15M'))\n",
    "print(re.split(re_cigar, '5S80M1D15M'))\n",
    "\n",
    "print(re.findall(re_cigar, '80M1D15M5S'))\n",
    "print(re.split(re_cigar, '80M1D15M5S'))"
   ]
  },
  {
   "cell_type": "code",
   "execution_count": 7,
   "id": "b2f448e3-ef9a-41bd-a2eb-382a49d4558a",
   "metadata": {},
   "outputs": [
    {
     "ename": "AssertionError",
     "evalue": "10 columns passed, passed data had 18 columns",
     "output_type": "error",
     "traceback": [
      "\u001b[0;31m---------------------------------------------------------------------------\u001b[0m",
      "\u001b[0;31mAssertionError\u001b[0m                            Traceback (most recent call last)",
      "\u001b[0;32m<ipython-input-7-7249fadda6e1>\u001b[0m in \u001b[0;36m<module>\u001b[0;34m\u001b[0m\n\u001b[1;32m      4\u001b[0m \u001b[0;34m\u001b[0m\u001b[0m\n\u001b[1;32m      5\u001b[0m \u001b[0md\u001b[0m \u001b[0;34m=\u001b[0m \u001b[0mread_gold\u001b[0m\u001b[0;34m(\u001b[0m\u001b[0;34m'10m/chr21-per.bam'\u001b[0m\u001b[0;34m,\u001b[0m \u001b[0;34m{\u001b[0m\u001b[0;34m}\u001b[0m\u001b[0;34m)\u001b[0m\u001b[0;34m\u001b[0m\u001b[0;34m\u001b[0m\u001b[0m\n\u001b[0;32m----> 6\u001b[0;31m \u001b[0mdf\u001b[0m \u001b[0;34m=\u001b[0m \u001b[0mread_query\u001b[0m\u001b[0;34m(\u001b[0m\u001b[0;34m'10m/bwa-grch38.bam'\u001b[0m\u001b[0;34m,\u001b[0m \u001b[0md\u001b[0m\u001b[0;34m)\u001b[0m\u001b[0;34m\u001b[0m\u001b[0;34m\u001b[0m\u001b[0m\n\u001b[0m\u001b[1;32m      7\u001b[0m \u001b[0mdf\u001b[0m\u001b[0;34m.\u001b[0m\u001b[0mto_csv\u001b[0m\u001b[0;34m(\u001b[0m\u001b[0;34m'10m/NA12878-bwa-grc.tsv'\u001b[0m\u001b[0;34m,\u001b[0m \u001b[0msep\u001b[0m\u001b[0;34m=\u001b[0m\u001b[0;34m'\\t'\u001b[0m\u001b[0;34m)\u001b[0m\u001b[0;34m\u001b[0m\u001b[0;34m\u001b[0m\u001b[0m\n",
      "\u001b[0;32m<ipython-input-3-6774d0acb3b3>\u001b[0m in \u001b[0;36mread_query\u001b[0;34m(fn, d)\u001b[0m\n\u001b[1;32m     25\u001b[0m             \u001b[0md\u001b[0m\u001b[0;34m[\u001b[0m\u001b[0mr\u001b[0m\u001b[0;34m.\u001b[0m\u001b[0mquery_name\u001b[0m \u001b[0;34m+\u001b[0m \u001b[0;34m'_2'\u001b[0m\u001b[0;34m]\u001b[0m\u001b[0;34m.\u001b[0m\u001b[0mextend\u001b[0m\u001b[0;34m(\u001b[0m\u001b[0minfo\u001b[0m\u001b[0;34m)\u001b[0m\u001b[0;34m\u001b[0m\u001b[0;34m\u001b[0m\u001b[0m\n\u001b[1;32m     26\u001b[0m     \u001b[0mf\u001b[0m\u001b[0;34m.\u001b[0m\u001b[0mclose\u001b[0m\u001b[0;34m(\u001b[0m\u001b[0;34m)\u001b[0m\u001b[0;34m\u001b[0m\u001b[0;34m\u001b[0m\u001b[0m\n\u001b[0;32m---> 27\u001b[0;31m     \u001b[0mdf\u001b[0m \u001b[0;34m=\u001b[0m \u001b[0mpd\u001b[0m\u001b[0;34m.\u001b[0m\u001b[0mDataFrame\u001b[0m\u001b[0;34m.\u001b[0m\u001b[0mfrom_dict\u001b[0m\u001b[0;34m(\u001b[0m\u001b[0md\u001b[0m\u001b[0;34m,\u001b[0m \u001b[0morient\u001b[0m\u001b[0;34m=\u001b[0m\u001b[0;34m'index'\u001b[0m\u001b[0;34m,\u001b[0m \u001b[0mcolumns\u001b[0m\u001b[0;34m=\u001b[0m\u001b[0;34m[\u001b[0m\u001b[0;34m'gold_rname'\u001b[0m\u001b[0;34m,\u001b[0m \u001b[0;34m'gold_pos'\u001b[0m\u001b[0;34m,\u001b[0m \u001b[0;34m'flag'\u001b[0m\u001b[0;34m,\u001b[0m \u001b[0;34m'rname'\u001b[0m\u001b[0;34m,\u001b[0m \u001b[0;34m'pos'\u001b[0m\u001b[0;34m,\u001b[0m \u001b[0;34m'mapq'\u001b[0m\u001b[0;34m,\u001b[0m \u001b[0;34m'score'\u001b[0m\u001b[0;34m,\u001b[0m \u001b[0;34m'hdist'\u001b[0m\u001b[0;34m,\u001b[0m \u001b[0;34m'cigar'\u001b[0m\u001b[0;34m,\u001b[0m \u001b[0;34m'pos_noclip'\u001b[0m\u001b[0;34m]\u001b[0m\u001b[0;34m)\u001b[0m\u001b[0;34m\u001b[0m\u001b[0;34m\u001b[0m\u001b[0m\n\u001b[0m\u001b[1;32m     28\u001b[0m     \u001b[0;32mreturn\u001b[0m \u001b[0mdf\u001b[0m\u001b[0;34m\u001b[0m\u001b[0;34m\u001b[0m\u001b[0m\n",
      "\u001b[0;32m~/miniconda3/lib/python3.7/site-packages/pandas/core/frame.py\u001b[0m in \u001b[0;36mfrom_dict\u001b[0;34m(cls, data, orient, dtype, columns)\u001b[0m\n\u001b[1;32m   1136\u001b[0m             \u001b[0;32mraise\u001b[0m \u001b[0mValueError\u001b[0m\u001b[0;34m(\u001b[0m\u001b[0;34m'only recognize index or columns for orient'\u001b[0m\u001b[0;34m)\u001b[0m\u001b[0;34m\u001b[0m\u001b[0;34m\u001b[0m\u001b[0m\n\u001b[1;32m   1137\u001b[0m \u001b[0;34m\u001b[0m\u001b[0m\n\u001b[0;32m-> 1138\u001b[0;31m         \u001b[0;32mreturn\u001b[0m \u001b[0mcls\u001b[0m\u001b[0;34m(\u001b[0m\u001b[0mdata\u001b[0m\u001b[0;34m,\u001b[0m \u001b[0mindex\u001b[0m\u001b[0;34m=\u001b[0m\u001b[0mindex\u001b[0m\u001b[0;34m,\u001b[0m \u001b[0mcolumns\u001b[0m\u001b[0;34m=\u001b[0m\u001b[0mcolumns\u001b[0m\u001b[0;34m,\u001b[0m \u001b[0mdtype\u001b[0m\u001b[0;34m=\u001b[0m\u001b[0mdtype\u001b[0m\u001b[0;34m)\u001b[0m\u001b[0;34m\u001b[0m\u001b[0;34m\u001b[0m\u001b[0m\n\u001b[0m\u001b[1;32m   1139\u001b[0m \u001b[0;34m\u001b[0m\u001b[0m\n\u001b[1;32m   1140\u001b[0m     \u001b[0;32mdef\u001b[0m \u001b[0mto_numpy\u001b[0m\u001b[0;34m(\u001b[0m\u001b[0mself\u001b[0m\u001b[0;34m,\u001b[0m \u001b[0mdtype\u001b[0m\u001b[0;34m=\u001b[0m\u001b[0;32mNone\u001b[0m\u001b[0;34m,\u001b[0m \u001b[0mcopy\u001b[0m\u001b[0;34m=\u001b[0m\u001b[0;32mFalse\u001b[0m\u001b[0;34m)\u001b[0m\u001b[0;34m:\u001b[0m\u001b[0;34m\u001b[0m\u001b[0;34m\u001b[0m\u001b[0m\n",
      "\u001b[0;32m~/miniconda3/lib/python3.7/site-packages/pandas/core/frame.py\u001b[0m in \u001b[0;36m__init__\u001b[0;34m(self, data, index, columns, dtype, copy)\u001b[0m\n\u001b[1;32m    433\u001b[0m                     \u001b[0;32mif\u001b[0m \u001b[0mis_named_tuple\u001b[0m\u001b[0;34m(\u001b[0m\u001b[0mdata\u001b[0m\u001b[0;34m[\u001b[0m\u001b[0;36m0\u001b[0m\u001b[0;34m]\u001b[0m\u001b[0;34m)\u001b[0m \u001b[0;32mand\u001b[0m \u001b[0mcolumns\u001b[0m \u001b[0;32mis\u001b[0m \u001b[0;32mNone\u001b[0m\u001b[0;34m:\u001b[0m\u001b[0;34m\u001b[0m\u001b[0;34m\u001b[0m\u001b[0m\n\u001b[1;32m    434\u001b[0m                         \u001b[0mcolumns\u001b[0m \u001b[0;34m=\u001b[0m \u001b[0mdata\u001b[0m\u001b[0;34m[\u001b[0m\u001b[0;36m0\u001b[0m\u001b[0;34m]\u001b[0m\u001b[0;34m.\u001b[0m\u001b[0m_fields\u001b[0m\u001b[0;34m\u001b[0m\u001b[0;34m\u001b[0m\u001b[0m\n\u001b[0;32m--> 435\u001b[0;31m                     \u001b[0marrays\u001b[0m\u001b[0;34m,\u001b[0m \u001b[0mcolumns\u001b[0m \u001b[0;34m=\u001b[0m \u001b[0mto_arrays\u001b[0m\u001b[0;34m(\u001b[0m\u001b[0mdata\u001b[0m\u001b[0;34m,\u001b[0m \u001b[0mcolumns\u001b[0m\u001b[0;34m,\u001b[0m \u001b[0mdtype\u001b[0m\u001b[0;34m=\u001b[0m\u001b[0mdtype\u001b[0m\u001b[0;34m)\u001b[0m\u001b[0;34m\u001b[0m\u001b[0;34m\u001b[0m\u001b[0m\n\u001b[0m\u001b[1;32m    436\u001b[0m                     \u001b[0mcolumns\u001b[0m \u001b[0;34m=\u001b[0m \u001b[0mensure_index\u001b[0m\u001b[0;34m(\u001b[0m\u001b[0mcolumns\u001b[0m\u001b[0;34m)\u001b[0m\u001b[0;34m\u001b[0m\u001b[0;34m\u001b[0m\u001b[0m\n\u001b[1;32m    437\u001b[0m \u001b[0;34m\u001b[0m\u001b[0m\n",
      "\u001b[0;32m~/miniconda3/lib/python3.7/site-packages/pandas/core/internals/construction.py\u001b[0m in \u001b[0;36mto_arrays\u001b[0;34m(data, columns, coerce_float, dtype)\u001b[0m\n\u001b[1;32m    402\u001b[0m     \u001b[0;32mif\u001b[0m \u001b[0misinstance\u001b[0m\u001b[0;34m(\u001b[0m\u001b[0mdata\u001b[0m\u001b[0;34m[\u001b[0m\u001b[0;36m0\u001b[0m\u001b[0;34m]\u001b[0m\u001b[0;34m,\u001b[0m \u001b[0;34m(\u001b[0m\u001b[0mlist\u001b[0m\u001b[0;34m,\u001b[0m \u001b[0mtuple\u001b[0m\u001b[0;34m)\u001b[0m\u001b[0;34m)\u001b[0m\u001b[0;34m:\u001b[0m\u001b[0;34m\u001b[0m\u001b[0;34m\u001b[0m\u001b[0m\n\u001b[1;32m    403\u001b[0m         return _list_to_arrays(data, columns, coerce_float=coerce_float,\n\u001b[0;32m--> 404\u001b[0;31m                                dtype=dtype)\n\u001b[0m\u001b[1;32m    405\u001b[0m     \u001b[0;32melif\u001b[0m \u001b[0misinstance\u001b[0m\u001b[0;34m(\u001b[0m\u001b[0mdata\u001b[0m\u001b[0;34m[\u001b[0m\u001b[0;36m0\u001b[0m\u001b[0;34m]\u001b[0m\u001b[0;34m,\u001b[0m \u001b[0mcompat\u001b[0m\u001b[0;34m.\u001b[0m\u001b[0mMapping\u001b[0m\u001b[0;34m)\u001b[0m\u001b[0;34m:\u001b[0m\u001b[0;34m\u001b[0m\u001b[0;34m\u001b[0m\u001b[0m\n\u001b[1;32m    406\u001b[0m         return _list_of_dict_to_arrays(data, columns,\n",
      "\u001b[0;32m~/miniconda3/lib/python3.7/site-packages/pandas/core/internals/construction.py\u001b[0m in \u001b[0;36m_list_to_arrays\u001b[0;34m(data, columns, coerce_float, dtype)\u001b[0m\n\u001b[1;32m    434\u001b[0m         \u001b[0mcontent\u001b[0m \u001b[0;34m=\u001b[0m \u001b[0mlist\u001b[0m\u001b[0;34m(\u001b[0m\u001b[0mlib\u001b[0m\u001b[0;34m.\u001b[0m\u001b[0mto_object_array\u001b[0m\u001b[0;34m(\u001b[0m\u001b[0mdata\u001b[0m\u001b[0;34m)\u001b[0m\u001b[0;34m.\u001b[0m\u001b[0mT\u001b[0m\u001b[0;34m)\u001b[0m\u001b[0;34m\u001b[0m\u001b[0;34m\u001b[0m\u001b[0m\n\u001b[1;32m    435\u001b[0m     return _convert_object_array(content, columns, dtype=dtype,\n\u001b[0;32m--> 436\u001b[0;31m                                  coerce_float=coerce_float)\n\u001b[0m\u001b[1;32m    437\u001b[0m \u001b[0;34m\u001b[0m\u001b[0m\n\u001b[1;32m    438\u001b[0m \u001b[0;34m\u001b[0m\u001b[0m\n",
      "\u001b[0;32m~/miniconda3/lib/python3.7/site-packages/pandas/core/internals/construction.py\u001b[0m in \u001b[0;36m_convert_object_array\u001b[0;34m(content, columns, coerce_float, dtype)\u001b[0m\n\u001b[1;32m    490\u001b[0m             raise AssertionError('{col:d} columns passed, passed data had '\n\u001b[1;32m    491\u001b[0m                                  '{con} columns'.format(col=len(columns),\n\u001b[0;32m--> 492\u001b[0;31m                                                         con=len(content)))\n\u001b[0m\u001b[1;32m    493\u001b[0m \u001b[0;34m\u001b[0m\u001b[0m\n\u001b[1;32m    494\u001b[0m     \u001b[0;31m# provide soft conversion of object dtypes\u001b[0m\u001b[0;34m\u001b[0m\u001b[0;34m\u001b[0m\u001b[0;34m\u001b[0m\u001b[0m\n",
      "\u001b[0;31mAssertionError\u001b[0m: 10 columns passed, passed data had 18 columns"
     ]
    }
   ],
   "source": [
    "d = read_gold('10m/chr21-per.bam', {})\n",
    "df = read_query('10m/bwa-chm13_to_grch38-final.bam', d)\n",
    "df.to_csv('10m/NA12878-bwa-lev.tsv', sep='\\t')\n"
   ]
  },
  {
   "cell_type": "code",
   "execution_count": 16,
   "id": "1f3890e8-a16c-42cd-97d5-fd72c17cf39f",
   "metadata": {},
   "outputs": [],
   "source": [
    "d = read_gold('10m/chr21-per.bam', {})\n",
    "df = read_query('10m/bwa-grch38.bam', d)\n",
    "df.to_csv('10m/NA12878-bwa-grc.tsv', sep='\\t')\n"
   ]
  },
  {
   "cell_type": "code",
   "execution_count": 14,
   "id": "9c4367fc-c648-4fdf-b9cc-8c58fcb81cbb",
   "metadata": {},
   "outputs": [
    {
     "name": "stdout",
     "output_type": "stream",
     "text": [
      "('simulated.728507_2', ['chr21', 26311370, 147, 'chr21', 26311459, 0, 67, 0, '33S67M', 26311426, 2179, 'chr18', 21268578, 0, 32, 1, '58H37M5H', 21268578])\n",
      "('simulated.841431_2', ['chr21', 32470824, 147, 'chr21', 32470824, 14, 74, 1, '76M24S', 32470824, 2179, 'chr1', 197042671, 0, 36, 1, '41M59H', 197042671])\n",
      "('simulated.1128168_2', ['chr21', 32470877, 129, 'chr16', 25092886, 0, 66, 1, '71M29S', 25092886, 2193, 'chr5', 178300184, 0, 38, 5, '23M4D30M47H', 178300184])\n",
      "('simulated.1437014_1', ['chr21', 35419943, 99, 'chr21', 35419968, 60, 75, 0, '25S75M', 35419943, 2163, 'chr11', 122989239, 0, 41, 1, '58H42M', 122989239])\n",
      "('simulated.1560589_2', ['chr21', 32470874, 177, 'chr16', 25092889, 2, 63, 1, '68M32S', 25092889, 2209, 'chr7', 6808824, 0, 37, 4, '56M44H', 6808824])\n",
      "('simulated.1843451_2', ['chr21', 19175455, 145, 'chr16', 73606094, 0, 62, 0, '38S62M', 73606056, 2177, 'chr10', 14626633, 0, 42, 0, '58H42M', 14626633])\n",
      "('simulated.1943932_2', ['chr21', 19232527, 147, 'chr21', 19232527, 60, 78, 0, '78M22S', 19232527, 2195, 'chr3', 160786125, 0, 43, 0, '57H43M', 160786125])\n",
      "('simulated.2857444_2', ['chr21', 18345629, 145, 'chr21', 18345629, 0, 78, 1, '83M17S', 18345629, 2177, 'chr16', 60245656, 0, 31, 0, '31M69H', 60245656])\n",
      "('simulated.4709841_2', ['chr21', 46021228, 177, 'chr4', 17651470, 0, 82, 1, '16S84M', 17651454, 2209, 'chr2', 213656249, 0, 31, 0, '69H31M', 213656249])\n"
     ]
    }
   ],
   "source": [
    "for i, (k, v) in enumerate(d.items()):\n",
    "    if len(v) != 10:\n",
    "        print((k,v))"
   ]
  },
  {
   "cell_type": "code",
   "execution_count": null,
   "id": "76c6f03f-4de8-4eda-b27c-c69e5027a856",
   "metadata": {},
   "outputs": [],
   "source": []
  }
 ],
 "metadata": {
  "kernelspec": {
   "display_name": "Python 3",
   "language": "python",
   "name": "python3"
  },
  "language_info": {
   "codemirror_mode": {
    "name": "ipython",
    "version": 3
   },
   "file_extension": ".py",
   "mimetype": "text/x-python",
   "name": "python",
   "nbconvert_exporter": "python",
   "pygments_lexer": "ipython3",
   "version": "3.7.1"
  }
 },
 "nbformat": 4,
 "nbformat_minor": 5
}
